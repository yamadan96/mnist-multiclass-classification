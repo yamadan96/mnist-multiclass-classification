{
  "nbformat": 4,
  "nbformat_minor": 0,
  "metadata": {
    "colab": {
      "provenance": []
    },
    "kernelspec": {
      "name": "python3",
      "display_name": "Python 3"
    },
    "language_info": {
      "name": "python"
    }
  },
  "cells": [
    {
      "cell_type": "markdown",
      "source": [
        "## MNISTで多クラス分類"
      ],
      "metadata": {
        "id": "5dSRsf-N00h0"
      }
    },
    {
      "cell_type": "code",
      "source": [
        "import torch\n",
        "from sklearn import datasets\n",
        "import matplotlib.pyplot as plt\n",
        "from torch.nn import functional as F"
      ],
      "metadata": {
        "id": "cFP19NhU6FN_"
      },
      "execution_count": 146,
      "outputs": []
    },
    {
      "cell_type": "code",
      "execution_count": 147,
      "metadata": {
        "id": "YLOvav300kfw"
      },
      "outputs": [],
      "source": [
        "# 1. データロード\n",
        "dataset = datasets.load_digits()\n",
        "images = dataset['images']\n",
        "target = dataset['target']"
      ]
    },
    {
      "cell_type": "code",
      "source": [
        "plt.imshow(images[0], cmap='grey')\n",
        "print(images.shape)"
      ],
      "metadata": {
        "colab": {
          "base_uri": "https://localhost:8080/",
          "height": 448
        },
        "id": "GKoko9R70zyA",
        "outputId": "aac20c90-7705-4b8d-ad99-db2a6dab64c5"
      },
      "execution_count": 148,
      "outputs": [
        {
          "output_type": "stream",
          "name": "stdout",
          "text": [
            "(1797, 8, 8)\n"
          ]
        },
        {
          "output_type": "display_data",
          "data": {
            "text/plain": [
              "<Figure size 640x480 with 1 Axes>"
            ],
            "image/png": "[encoded data removed]"
          },
          "metadata": {}
        }
      ]
    },
    {
      "cell_type": "code",
      "source": [
        "target.shape"
      ],
      "metadata": {
        "colab": {
          "base_uri": "https://localhost:8080/"
        },
        "id": "UqyQJfby14ti",
        "outputId": "7a8a7df4-dd5a-40a0-c00f-f9e23090001c"
      },
      "execution_count": 149,
      "outputs": [
        {
          "output_type": "execute_result",
          "data": {
            "text/plain": [
              "(1797,)"
            ]
          },
          "metadata": {},
          "execution_count": 149
        }
      ]
    },
    {
      "cell_type": "code",
      "source": [
        "# 2. 前処理\n",
        "# 2-1. ラベルのone-hot encoding\n",
        "y_true = F.one_hot(torch.tensor(target), num_classes=10)\n",
        "images = torch.tensor(images, dtype=torch.float32).reshape(-1, 64)\n",
        "# 2-2. 画像の標準化\n",
        "images = (images - images.mean()) / images.std()"
      ],
      "metadata": {
        "id": "63zzAJQU3vda"
      },
      "execution_count": 150,
      "outputs": []
    },
    {
      "cell_type": "code",
      "source": [
        "learning_rate = 0.03\n",
        "loss_log = []"
      ],
      "metadata": {
        "id": "CCef03UF6MDl"
      },
      "execution_count": 151,
      "outputs": []
    },
    {
      "cell_type": "code",
      "source": [
        "# 3. パラメータの初期化\n",
        "W = torch.rand((10, 64), requires_grad=True) # 出力×入力\n",
        "b = torch.rand((1, 10), requires_grad=True) # 1 × 出力"
      ],
      "metadata": {
        "id": "1ge48ltu8Asv"
      },
      "execution_count": 152,
      "outputs": []
    },
    {
      "cell_type": "code",
      "source": [
        "# 4. softmaxとクロスエントロピー\n",
        "def softmax(x):\n",
        "    e_x = torch.exp(x - torch.max(x, dim=-1, keepdim=True)[0])\n",
        "    return e_x / (torch.sum(e_x, dim=-1, keepdim=True) + 1e-10)\n",
        "\n",
        "def cross_entropy(y_true, y_pred):\n",
        "    return -torch.sum(y_true * torch.log(y_pred + 1e-10)) / y_true.shape[0]"
      ],
      "metadata": {
        "id": "FnHw-qhl-mXs"
      },
      "execution_count": 153,
      "outputs": []
    },
    {
      "cell_type": "code",
      "source": [
        "# 5. for文で学習ループ作成\n",
        "for epoch in range(5):\n",
        "    running_loss = 0\n",
        "    for i in range(len(target)):\n",
        "        # 6. 入力データxおよび教師ラベルのYを作成\n",
        "        y_true_ = y_true[i].reshape(-1, 10) # データ数×クラス数\n",
        "        X = images[i].reshape(-1, 64) # データ数×特徴量\n",
        "\n",
        "        # 7. z計算\n",
        "        z = X@W.T + b\n",
        "\n",
        "        # 8. softmaxで予測計算\n",
        "        y_pred = softmax(z)\n",
        "\n",
        "        # 9. 損失計算\n",
        "        loss = cross_entropy(y_true_, y_pred)\n",
        "        loss_log.append(loss.item())\n",
        "        running_loss += loss.item()\n",
        "\n",
        "        # 10. 勾配計算\n",
        "        loss.backward()\n",
        "\n",
        "        # 11. パラメータ更新\n",
        "        with torch.no_grad():\n",
        "            W -= learning_rate * W.grad\n",
        "            b -= learning_rate * b.grad\n",
        "\n",
        "        # 12. 勾配初期化\n",
        "        W.grad.zero_()\n",
        "        b.grad.zero_()\n",
        "\n",
        "    # 13. 損失ログ出力\n",
        "    print(f'epoch: {epoch+1}: {running_loss/len(target)}')"
      ],
      "metadata": {
        "colab": {
          "base_uri": "https://localhost:8080/"
        },
        "id": "TlVDgOo9-mV-",
        "outputId": "e3c0d9c8-a6b3-4444-938d-147620ff10f0"
      },
      "execution_count": 154,
      "outputs": [
        {
          "output_type": "stream",
          "name": "stdout",
          "text": [
            "epoch: 1: 0.3899371371230606\n",
            "epoch: 2: 0.1349450872025527\n",
            "epoch: 3: 0.10619612576850244\n",
            "epoch: 4: 0.09035435907385052\n",
            "epoch: 5: 0.07927121607563944\n"
          ]
        }
      ]
    },
    {
      "cell_type": "code",
      "source": [
        "# 学習したモデルで全データのaccuracyを計算する（学習に使っているデータに対してのAccuracyであることに注意）\n",
        "X = torch.tensor(images, dtype=torch.float32)\n",
        "z = X@W.T + b\n",
        "y_pred = softmax(z)\n",
        "# accuracy =正しく分類できた数/全サンプル数\n",
        "torch.sum(torch.argmax(y_pred, dim=-1) == torch.argmax(y_true, dim=-1)) / y_true.shape[0]"
      ],
      "metadata": {
        "colab": {
          "base_uri": "https://localhost:8080/"
        },
        "id": "COIAuAEiVKJo",
        "outputId": "75725772-2a1e-4d7f-e357-23b4e0e0276a"
      },
      "execution_count": 155,
      "outputs": [
        {
          "output_type": "stream",
          "name": "stderr",
          "text": [
            "<ipython-input-155-895871d2d51c>:2: UserWarning: To copy construct from a tensor, it is recommended to use sourceTensor.clone().detach() or sourceTensor.clone().detach().requires_grad_(True), rather than torch.tensor(sourceTensor).\n",
            "  X = torch.tensor(images, dtype=torch.float32)\n"
          ]
        },
        {
          "output_type": "execute_result",
          "data": {
            "text/plain": [
              "tensor(0.9772)"
            ]
          },
          "metadata": {},
          "execution_count": 155
        }
      ]
    },
    {
      "cell_type": "code",
      "source": [
        "plt.plot(loss_log)"
      ],
      "metadata": {
        "colab": {
          "base_uri": "https://localhost:8080/",
          "height": 448
        },
        "id": "EYDV6alvVcG1",
        "outputId": "59d14b88-d980-44c0-c592-245b5f8f080b"
      },
      "execution_count": 156,
      "outputs": [
        {
          "output_type": "execute_result",
          "data": {
            "text/plain": [
              "[<matplotlib.lines.Line2D at 0x7b079d6966d0>]"
            ]
          },
          "metadata": {},
          "execution_count": 156
        },
        {
          "output_type": "display_data",
          "data": {
            "text/plain": [
              "<Figure size 640x480 with 1 Axes>"
            ],
            "image/png": "[encoded data removed]"
          },
          "metadata": {}
        }
      ]
    }
  ]
}